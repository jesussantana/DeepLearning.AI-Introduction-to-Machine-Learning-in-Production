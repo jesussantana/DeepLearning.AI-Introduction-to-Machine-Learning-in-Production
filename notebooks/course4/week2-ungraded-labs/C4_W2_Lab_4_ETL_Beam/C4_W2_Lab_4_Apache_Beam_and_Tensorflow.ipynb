{
  "nbformat": 4,
  "nbformat_minor": 0,
  "metadata": {
    "colab": {
      "name": "C4_W2_Lab_4_Apache_Beam_and_Tensorflow.ipynb",
      "private_outputs": true,
      "provenance": [],
      "collapsed_sections": []
    },
    "kernelspec": {
      "name": "python3",
      "display_name": "Python 3"
    },
    "language_info": {
      "name": "python"
    }
  },
  "cells": [
    {
      "cell_type": "markdown",
      "metadata": {
        "id": "9DwycGzXvRVx"
      },
      "source": [
        "# Ungraded Lab (Optional): ETL Pipelines and Batch Predictions with Apache Beam and Tensorflow\n",
        "\n",
        "In this lab, you will create, train, evaluate, and make predictions on a model using [Apache Beam](https://beam.apache.org/) and [TensorFlow](https://www.tensorflow.org/). In particular, you will train a model to predict the molecular energy based on the number of carbon, hydrogen, oxygen, and nitrogen atoms.\n",
        "\n",
        "This lab is marked as optional because you will not be interacting with Beam-based systems directly in future exercises. Other courses of this specialization also use tools that abstract this layer. Nonetheless, it would be good to be familiar with it since it is used under the hood by TFX which is the main ML pipelines framework that you will use in other labs. Seeing how these systems work will let you explore other codebases that use this tool more freely and even make contributions or bug fixes as you see fit. If you don't know the basics of Beam yet, we encourage you to look at the [Minimal Word Count example here](https://beam.apache.org/get-started/wordcount-example/) for a quick start and use the [Beam Programming Guide](https://beam.apache.org/documentation/programming-guide) to look up concepts if needed.\n",
        "\n",
        "The entire pipeline can be divided into four phases:\n",
        " 1. Data extraction\n",
        " 2. Preprocessing the data\n",
        " 3. Training the model\n",
        " 4. Doing predictions\n",
        "\n",
        "You will focus particularly on Phase 2 (Preprocessing) and a bit of Phase 4 (Predictions) because these use Beam in its implementation.\n",
        "\n",
        "Let's begin!\n",
        "\n",
        "*Note: This tutorial uses code, images, and discussion from [this  article](https://cloud.google.com/dataflow/examples/molecules-walkthrough). We highlighted a few key parts and updated some of the code to use more recent versions. Also, we focused on making the lab running locally. The original article linked above contain instructions on running it in GCP. Just take note that it will have associated costs depending on the resources you use.*"
      ]
    },
    {
      "cell_type": "markdown",
      "metadata": {
        "id": "r1lasCIx1upi"
      },
      "source": [
        "## Initial setup\n",
        "\n",
        "You will first download the scripts that you will use in the lab."
      ]
    },
    {
      "cell_type": "code",
      "metadata": {
        "id": "XAlhjfVPUOpj"
      },
      "source": [
        "# Download the scripts\n",
        "!wget https://github.com/https-deeplearning-ai/machine-learning-engineering-for-production-public/raw/main/course4/week2-ungraded-labs/C4_W2_Lab_4_ETL_Beam/data/molecules.tar.gz\n",
        "\n",
        "# Unzip the archive\n",
        "!tar -xvzf molecules.tar.gz"
      ],
      "execution_count": null,
      "outputs": []
    },
    {
      "cell_type": "markdown",
      "metadata": {
        "id": "aDn4G_ksYVz4"
      },
      "source": [
        "The `molecules` directory you downloaded mainly contain 4 scripts that encapsulate all phases of the workflow you will execute in this lab. It is summarized by the figure below:\n",
        "\n",
        "<img src='https://github.com/https-deeplearning-ai/machine-learning-engineering-for-production-public/raw/main/course4/week2-ungraded-labs/C4_W2_Lab_4_ETL_Beam/images/overview.png' alt='https://github.com/https-deeplearning-ai/machine-learning-engineering-for-production-public/raw/main/course4/week2-ungraded-labs/C4_W2_Lab_4_ETL_Beam/images/overview.png'>\n",
        "\n",
        "In addition, it also contains these additional files and directories:\n",
        "\n",
        "* `pubchem` - subdirectory which contains common modules (i.e. `pipeline.py` and `sdf.py`) shared by the preprocessing and predicition phases. If you look at `preprocess.py` and `predict.py`, you can see the line `import as pubchem` at the top.\n",
        "\n",
        "* `requirements.txt` - contains packages to install in this Colab. These are Apache Beam and Tensorflow Transform. These allows you to create Extract-Transform-Load (ETL) pipelines and preprocess data. Let's install them in the next cell."
      ]
    },
    {
      "cell_type": "code",
      "metadata": {
        "id": "eyBqH5WrvvFC"
      },
      "source": [
        "# Install required packages\n",
        "!pip install -r ./molecules/requirements.txt"
      ],
      "execution_count": null,
      "outputs": []
    },
    {
      "cell_type": "markdown",
      "metadata": {
        "id": "XT5UJpLn2KgV"
      },
      "source": [
        "_Note: In Google Colab, you need to restart the runtime at this point to finalize updating the packages you just installed. You can do so by clicking the `Restart Runtime` button at the end of the output cell above (after installation), or by selecting `Runtime > Restart Runtime` in the Menu bar. **Please do not proceed to the next section without restarting.**_"
      ]
    },
    {
      "cell_type": "markdown",
      "metadata": {
        "id": "hNr3GXCp5pJo"
      },
      "source": [
        "Next, you'll define the working directory to contain all the results you will generate in this exercise. After each phase, you can open the Colab file explorer on the left and look under the `results` directory to see the new files and directories generated."
      ]
    },
    {
      "cell_type": "code",
      "metadata": {
        "id": "No28Orjtq6qu"
      },
      "source": [
        "# Define working directory\n",
        "WORK_DIR = \"results\""
      ],
      "execution_count": null,
      "outputs": []
    },
    {
      "cell_type": "markdown",
      "metadata": {
        "id": "nSgiD7LTlG_4"
      },
      "source": [
        "With that, you are now ready to execute the pipeline. As shown in the figure earlier, the logic is already implemented in the four main scripts. You will run them one by one and the next sections will discuss relevant detail and the outputs generated."
      ]
    },
    {
      "cell_type": "markdown",
      "metadata": {
        "id": "oSEoPhqf59bf"
      },
      "source": [
        "## Phase 1: Data extraction\n",
        "\n",
        "The first step is to extract the input data. The dataset  is stored as [`SDF`](https://en.wikipedia.org/wiki/Chemical_table_file#SDF) files and is extracted from the [National Center for Biotechnology Information](https://www.ncbi.nlm.nih.gov/) [(FTP source)](ftp://ftp.ncbi.nlm.nih.gov/pubchem/Compound_3D/01_conf_per_cmpd/SDF). Chapter 6 of [this document](http://c4.cabrillo.edu/404/ctfile.pdf) shows a more detailed description of the SDF file format. \n",
        "\n",
        "The `data-extractor.py` file extracts and decompresses the specified SDF files. In later steps, the example preprocesses these files and uses the data to train and evaluate the machine learning model. The file extracts the SDF files from the public source and stores them in a subdirectory inside the specified working directory.\n",
        "\n",
        "As you can see [here](https://ftp.ncbi.nlm.nih.gov/pubchem/Compound_3D/01_conf_per_cmpd/SDF/), the complete set of files is huge and can easily exceed storage limits in Colab. For this exercise, you will just download one file. You can use the script as shown in the cells below:"
      ]
    },
    {
      "cell_type": "code",
      "metadata": {
        "id": "wD5nYt6enHsl"
      },
      "source": [
        "# Print the help documentation. You can ignore references to GCP because you will be running everything in Colab.\n",
        "!python ./molecules/data-extractor.py --help"
      ],
      "execution_count": null,
      "outputs": []
    },
    {
      "cell_type": "code",
      "metadata": {
        "id": "pti5F3n3G4L8"
      },
      "source": [
        "# Run the data extractor\n",
        "!python ./molecules/data-extractor.py --max-data-files 1 --work-dir={WORK_DIR}"
      ],
      "execution_count": null,
      "outputs": []
    },
    {
      "cell_type": "markdown",
      "metadata": {
        "id": "-8InzfUTpi5p"
      },
      "source": [
        "You should now have a new folder in your work directory called `data`. This will contain the SDF file you downloaded."
      ]
    },
    {
      "cell_type": "code",
      "metadata": {
        "id": "7WPtb0-RWbGO"
      },
      "source": [
        "# List working directory\n",
        "!ls {WORK_DIR}"
      ],
      "execution_count": null,
      "outputs": []
    },
    {
      "cell_type": "markdown",
      "metadata": {
        "id": "i2ZguM0oqQjF"
      },
      "source": [
        "In the SDF Documentation linked earlier, it shows that one record is terminated by `$$$$`. You can use the command below to print the first one in the file. As you'll see, just one record is already pretty long. In the next phase, you'll feed these records in a pipeline that will transform these into a form that can be consumed by our model."
      ]
    },
    {
      "cell_type": "code",
      "metadata": {
        "id": "uF-emneAXVaT"
      },
      "source": [
        "# Print one record\n",
        "!sed '/$$$$/q' {WORK_DIR}/data/00000001_00025000.sdf"
      ],
      "execution_count": null,
      "outputs": []
    },
    {
      "cell_type": "markdown",
      "metadata": {
        "id": "78FeMpgf7AJl"
      },
      "source": [
        "## Phase 2: Preprocessing\n",
        "\n",
        "The next script: `preprocess.py` uses an Apache Beam pipeline to preprocess the data. The pipeline performs the following preprocessing actions:\n",
        "\n",
        "1. Reads and parses the extracted SDF files.\n",
        "2. Counts the number of different atoms in each of the molecules in the files.\n",
        "3. Normalizes the counts to values between 0 and 1 using tf.Transform.\n",
        "4. Partitions the dataset into a training dataset and an evaluation dataset.\n",
        "5. Writes the two datasets as TFRecord objects.\n",
        "\n",
        "Apache Beam transforms can efficiently manipulate single elements at a time, but transforms that require a full pass of the dataset cannot easily be done with only Apache Beam and are better done using [tf.Transform](https://www.tensorflow.org/tfx/guide/tft). Because of this, the code uses Apache Beam transforms to read and format the molecules, and to count the atoms in each molecule. The code then uses `tf.Transform` to find the global minimum and maximum counts in order to normalize the data.\n",
        "\n",
        "The following image shows the steps in the pipeline.\n",
        "\n",
        "<img src='https://github.com/https-deeplearning-ai/machine-learning-engineering-for-production-public/raw/main/course4/week2-ungraded-labs/C4_W2_Lab_4_ETL_Beam/images/etl.png' alt='https://github.com/https-deeplearning-ai/machine-learning-engineering-for-production-public/raw/main/course4/week2-ungraded-labs/C4_W2_Lab_4_ETL_Beam/images/etl.png'>"
      ]
    },
    {
      "cell_type": "markdown",
      "metadata": {
        "id": "v1LsKmyAAokl"
      },
      "source": [
        "### Run the preprocessing pipeline\n",
        "\n",
        "You will run the script first and the following sections will discuss the relevant parts of this code. This will take around 6 minutes to run."
      ]
    },
    {
      "cell_type": "code",
      "metadata": {
        "id": "MQQ6vK2TAar8"
      },
      "source": [
        "# Print help documentation\n",
        "!python ./molecules/preprocess.py --help"
      ],
      "execution_count": null,
      "outputs": []
    },
    {
      "cell_type": "code",
      "metadata": {
        "id": "a0D2hb4vq3Ls"
      },
      "source": [
        "# Run the preprocessing script\n",
        "!python ./molecules/preprocess.py --work-dir={WORK_DIR}"
      ],
      "execution_count": null,
      "outputs": []
    },
    {
      "cell_type": "markdown",
      "metadata": {
        "id": "nXpjPZWZzJkU"
      },
      "source": [
        "You should now have a few more outputs in your work directory. Most important are:\n",
        "\n",
        "* **transform_fn** - the transformation graph describing how to transform SDF inputs to tensors\n",
        "* **transformed_metadata** - contains the metadata describing the data types of the `tf.Transform` outputs\n",
        "* **train-dataset** - contains the transformed training dataset\n",
        "* **eval-dataset** - contains the transformed evaluation dataset\n",
        "* **PreprocessData** - pickled file containing variables you will use in the training phase\n"
      ]
    },
    {
      "cell_type": "code",
      "metadata": {
        "id": "lyABwtyAXpyK"
      },
      "source": [
        "# List working directory\n",
        "!ls {WORK_DIR}"
      ],
      "execution_count": null,
      "outputs": []
    },
    {
      "cell_type": "markdown",
      "metadata": {
        "id": "iRU07-iR1Byo"
      },
      "source": [
        "The training and evaluation datasets contain TFRecords and you can view them by running the helper function in the cells below."
      ]
    },
    {
      "cell_type": "code",
      "metadata": {
        "id": "0sGHYX6m70LX"
      },
      "source": [
        "from google.protobuf.json_format import MessageToDict\n",
        "\n",
        "# Define a helper function to get individual examples\n",
        "def get_records(dataset, num_records):\n",
        "    '''Extracts records from the given dataset.\n",
        "    Args:\n",
        "        dataset (TFRecordDataset): dataset saved in the preprocessing step\n",
        "        num_records (int): number of records to preview\n",
        "    '''\n",
        "\n",
        "    # initialize an empty list\n",
        "    records = []\n",
        "    \n",
        "    # Use the `take()` method to specify how many records to get\n",
        "    for tfrecord in dataset.take(num_records):\n",
        "        \n",
        "        # Get the numpy property of the tensor\n",
        "        serialized_example = tfrecord.numpy()\n",
        "        \n",
        "        # Initialize a `tf.train.Example()` to read the serialized data\n",
        "        example = tf.train.Example()\n",
        "        \n",
        "        # Read the example data (output is a protocol buffer message)\n",
        "        example.ParseFromString(serialized_example)\n",
        "        \n",
        "        # convert the protocol bufffer message to a Python dictionary\n",
        "        example_dict = (MessageToDict(example))\n",
        "        \n",
        "        # append to the records list\n",
        "        records.append(example_dict)\n",
        "        \n",
        "    return records"
      ],
      "execution_count": null,
      "outputs": []
    },
    {
      "cell_type": "code",
      "metadata": {
        "id": "GR1F6XQY8GOG"
      },
      "source": [
        "import tensorflow as tf\n",
        "from pprint import pprint\n",
        "\n",
        "# Create TF Dataset from TFRecord of training set\n",
        "train_data = tf.data.TFRecordDataset(f'{WORK_DIR}/train-dataset/part-00000-of-00001')\n",
        "\n",
        "# Print two records\n",
        "test_data = get_records(train_data, 2)\n",
        "\n",
        "pprint(test_data)"
      ],
      "execution_count": null,
      "outputs": []
    },
    {
      "cell_type": "markdown",
      "metadata": {
        "id": "v-76euq1v8eA"
      },
      "source": [
        "*Note: From the output cell above, you might concur that we'll need more than the atom counts to make better predictions. You'll notice that the counts are identical in both records but the `Energy` value is different. Thus, you cannot expect the model to have a low loss during the training phase later. For simplicity, we'll just use atom counts in this exercise but feel free to revise later to have more predictive features. You can share your findings in our Discourse community to discuss with other learners who are interested in the same problem.*"
      ]
    },
    {
      "cell_type": "markdown",
      "metadata": {
        "id": "zuSdU2unjfuk"
      },
      "source": [
        "The `PreprocessData` contains Python objects needed in the training phase such as:\n",
        "\n",
        "* the filename patterns of the training and eval set directories\n",
        "* spec file describing the input features\n",
        "* name of the label column\n",
        "\n",
        "These are saved in a serialized file using [dill](https://pypi.org/project/dill/) when you ran the `preprocess` script earlier and you can deserialize it using the cell below to view its contents."
      ]
    },
    {
      "cell_type": "code",
      "metadata": {
        "id": "DWAQW4zDtmA3"
      },
      "source": [
        "import dill as pickle\n",
        "\n",
        "# Helper function to load the serialized file\n",
        "def load(filename):\n",
        "  with tf.io.gfile.GFile(filename, 'rb') as f:\n",
        "    return pickle.load(f)\n",
        "\n",
        "# Load PreprocessData\n",
        "preprocess_data = load('/content/results/PreprocessData')\n",
        "\n",
        "# Print contents\n",
        "pprint(vars(preprocess_data))"
      ],
      "execution_count": null,
      "outputs": []
    },
    {
      "cell_type": "markdown",
      "metadata": {
        "id": "O9p8fq4J1em6"
      },
      "source": [
        "The next sections will describe how these are implemented as a Beam pipeline in `preprocess.py`. You can open this file in a separate text editor so you can look at it more closely while reviewing the snippets below."
      ]
    },
    {
      "cell_type": "markdown",
      "metadata": {
        "id": "MyMkp9iD7hN4"
      },
      "source": [
        "### Applying element-based transforms\n",
        "\n",
        "The `preprocess.py` code creates an Apache Beam pipeline.\n",
        "\n",
        "<details> \n",
        "<summary> Click here to see the code snippet </summary>\n",
        "\n",
        "```\n",
        "# Build and run a Beam Pipeline\n",
        "with beam.Pipeline(options=beam_options) as p, \\\n",
        "     beam_impl.Context(temp_dir=tft_temp_dir):\n",
        "```\n",
        "</details>\n",
        "<br>\n",
        "\n",
        "\n",
        "Next, the code applies a `feature_extraction` transform to the pipeline.\n",
        "\n",
        "<details> \n",
        "<summary> Click here to see the code snippet </summary>\n",
        "\n",
        "```\n",
        "# Transform and validate the input data matches the input schema\n",
        "dataset = (\n",
        "    p\n",
        "    | 'Feature extraction' >> feature_extraction\n",
        "```\n",
        "</details>\n",
        "<br>\n",
        "\n",
        "The pipeline uses `SimpleFeatureExtraction` as its `feature_extraction` transform.\n",
        "\n",
        "<details> \n",
        "<summary> Click here to see the code snippet </summary>\n",
        "\n",
        "```\n",
        "pubchem.SimpleFeatureExtraction(pubchem.ParseSDF(data_files_pattern)),\n",
        "```\n",
        "</details>\n",
        "<br>\n",
        "\n",
        "The `SimpleFeatureExtraction` transform, defined in `pubchem/pipeline.py`, contains a series of transforms that manipulate all elements independently. First, the code parses the molecules from the source file, then formats the molecules to a dictionary of molecule properties, and finally, counts the atoms in the molecule. These counts are the features (inputs) for the machine learning model.\n",
        "\n",
        "<details> \n",
        "<summary> Click here to see the code snippet </summary>\n",
        "\n",
        "```\n",
        "class SimpleFeatureExtraction(beam.PTransform):\n",
        "  \"\"\"The feature extraction (element-wise transformations).\n",
        "\n",
        "  We create a `PTransform` class. This `PTransform` is a bundle of\n",
        "  transformations that can be applied to any other pipeline as a step.\n",
        "\n",
        "  We'll extract all the raw features here. Due to the nature of `PTransform`s,\n",
        "  we can only do element-wise transformations here. Anything that requires a\n",
        "  full-pass of the data (such as feature scaling) has to be done with\n",
        "  tf.Transform.\n",
        "  \"\"\"\n",
        "  def __init__(self, source):\n",
        "    super(SimpleFeatureExtraction, self).__init__()\n",
        "    self.source = source\n",
        "\n",
        "  def expand(self, p):\n",
        "    # Return the preprocessing pipeline. In this case we're reading the PubChem\n",
        "    # files, but the source could be any Apache Beam source.\n",
        "    return (p\n",
        "        | 'Read raw molecules' >> self.source\n",
        "        | 'Format molecule' >> beam.ParDo(FormatMolecule())\n",
        "        | 'Count atoms' >> beam.ParDo(CountAtoms())\n",
        "    )\n",
        "```\n",
        "</details>\n",
        "</br>\n",
        "\n",
        "The read transform `beam.io.Read(pubchem.ParseSDF(data_files_pattern))` reads SDF files from a custom source.\n",
        "\n",
        "The custom source, called `ParseSDF`, is defined in `pubchem/pipeline.py`. ParseSDF extends `FileBasedSource` and implements the `read_records` function that opens the extracted SDF files.\n",
        "\n",
        "The pipeline groups the raw data into sections of relevant information needed for the next steps. Each section in the parsed SDF file is stored in a dictionary (see `pipeline/sdf.py`), where the keys are the section names and the values are the raw line contents of the corresponding section.\n",
        "\n",
        "The code applies `beam.ParDo(FormatMolecule())` to the pipeline. The `ParDo` applies the `DoFn` named `FormatMolecule` to each molecule. `FormatMolecule` yields a dictionary of formatted molecules. The following snippet is an example of an element in the output `PCollection`:\n",
        "\n",
        "<details> \n",
        "<summary> Click here to see a sample output of <i>beam.ParDo(FormatMolecule())</i> </summary>\n",
        "\n",
        "```\n",
        "{\n",
        "  'atoms': [\n",
        "    {\n",
        "      'atom_atom_mapping_number': 0,\n",
        "      'atom_stereo_parity': 0,\n",
        "      'atom_symbol': u'O',\n",
        "      'charge': 0,\n",
        "      'exact_change_flag': 0,\n",
        "      'h0_designator': 0,\n",
        "      'hydrogen_count': 0,\n",
        "      'inversion_retention': 0,\n",
        "      'mass_difference': 0,\n",
        "      'stereo_care_box': 0,\n",
        "      'valence': 0,\n",
        "      'x': -0.0782,\n",
        "      'y': -1.5651,\n",
        "      'z': 1.3894,\n",
        "    },\n",
        "    ...\n",
        "  ],\n",
        "  'bonds': [\n",
        "    {\n",
        "      'bond_stereo': 0,\n",
        "      'bond_topology': 0,\n",
        "      'bond_type': 1,\n",
        "      'first_atom_number': 1,\n",
        "      'reacting_center_status': 0,\n",
        "      'second_atom_number': 5,\n",
        "    },\n",
        "    ...\n",
        "  ],\n",
        "  '<PUBCHEM_COMPOUND_CID>': ['3\\n'],\n",
        "  ...\n",
        "  '<PUBCHEM_MMFF94_ENERGY>': ['19.4085\\n'],\n",
        "  ...\n",
        "}\n",
        "```\n",
        "</details>\n",
        "<br>\n",
        "\n",
        "\n",
        "Then, the code applies `beam.ParDo(CountAtoms())` to the pipeline. The `DoFn` `CountAtoms` sums the number of carbon, hydrogen, nitrogen, and oxygen atoms each molecule has. `CountAtoms` outputs a `PCollection` of features and labels. Here is an example of an element in the output `PCollection`:\n",
        "\n",
        "<details> \n",
        "<summary> Click here to see a sample output of <i>beam.ParDo(CountAtoms())</i></summary>\n",
        "\n",
        "```\n",
        "{\n",
        "  'ID': 3,\n",
        "  'TotalC': 7,\n",
        "  'TotalH': 8,\n",
        "  'TotalO': 4,\n",
        "  'TotalN': 0,\n",
        "  'Energy': 19.4085,\n",
        "}\n",
        "```\n",
        "\n",
        "</details>\n",
        "<br>\n",
        "\n",
        "The pipeline then validates the inputs. The `ValidateInputData` `DoFn` validates that every element matches the metadata given in the `input_schema`. This validation ensures that the data is in the correct format when it's fed into TensorFlow.\n",
        "\n",
        "<details> \n",
        "<summary> Click here to see the code snippet </summary>\n",
        "\n",
        "```\n",
        "| 'Validate inputs' >> beam.ParDo(ValidateInputData(\n",
        "    input_feature_spec)))\n",
        "```\n",
        "</details>"
      ]
    },
    {
      "cell_type": "markdown",
      "metadata": {
        "id": "rX0Iu8RI_wg0"
      },
      "source": [
        "### Applying full-pass transforms\n",
        "\n",
        "The Molecules code sample uses a [Deep Neural Network Regressor](https://www.tensorflow.org/api_docs/python/tf/estimator/DNNRegressor) to make predictions. The general recommendation is to normalize the inputs before feeding them into the ML model. The pipeline uses `tf.Transform` to normalize the counts of each atom to values between 0 and 1. To read more about normalizing inputs, see [feature scaling](https://en.wikipedia.org/wiki/Feature_scaling).\n",
        "\n",
        "Normalizing the values requires a full pass through the dataset, recording the minimum and maximum values. The code uses `tf.Transform` to go through the entire dataset and apply full-pass transforms.\n",
        "\n",
        "To use `tf.Transform`, the code must provide a function that contains the logic of the transform to perform on the dataset. In `preprocess.py`, the code uses the `AnalyzeAndTransformDataset` transform provided by `tf.Transform`. Learn more about [how to use tf.Transform](https://www.tensorflow.org/tfx/transform/get_started).\n",
        "\n",
        "<details> \n",
        "<summary> Click here to see the code snippet </summary>\n",
        "\n",
        "```\n",
        "# Apply the tf.Transform preprocessing_fn\n",
        "input_metadata = dataset_metadata.DatasetMetadata(\n",
        "    dataset_schema.from_feature_spec(input_feature_spec))\n",
        "\n",
        "dataset_and_metadata, transform_fn = (\n",
        "    (dataset, input_metadata)\n",
        "    | 'Feature scaling' >> beam_impl.AnalyzeAndTransformDataset(\n",
        "        feature_scaling))\n",
        "dataset, metadata = dataset_and_metadata\n",
        "```\n",
        "</details>\n",
        "<br>\n",
        "\n",
        "In `preprocess.py`, the `feature_scaling` function used is `normalize_inputs`, which is defined in `pubchem/pipeline.py`. The function uses the `tf.Transform` function `scale_to_0_1` to normalize the counts to values between 0 and 1.\n",
        "\n",
        "<details> \n",
        "<summary> Click here to see the code snippet </summary>\n",
        "\n",
        "```\n",
        "def normalize_inputs(inputs):\n",
        "  \"\"\"Preprocessing function for tf.Transform (full-pass transformations).\n",
        "\n",
        "  Here we will do any preprocessing that requires a full-pass of the dataset.\n",
        "  It takes as inputs the preprocessed data from the `PTransform` we specify, in\n",
        "  this case `SimpleFeatureExtraction`.\n",
        "\n",
        "  Common operations might be scaling values to 0-1, getting the minimum or\n",
        "  maximum value of a certain field, creating a vocabulary for a string field.\n",
        "\n",
        "  There are two main types of transformations supported by tf.Transform, for\n",
        "  more information, check the following modules:\n",
        "    - analyzers: tensorflow_transform.analyzers.py\n",
        "    - mappers:   tensorflow_transform.mappers.py\n",
        "\n",
        "  Any transformation done in tf.Transform will be embedded into the TensorFlow\n",
        "  model itself.\n",
        "  \"\"\"\n",
        "  return {\n",
        "      # Scale the input features for normalization\n",
        "      'NormalizedC': tft.scale_to_0_1(inputs['TotalC']),\n",
        "      'NormalizedH': tft.scale_to_0_1(inputs['TotalH']),\n",
        "      'NormalizedO': tft.scale_to_0_1(inputs['TotalO']),\n",
        "      'NormalizedN': tft.scale_to_0_1(inputs['TotalN']),\n",
        "\n",
        "      # Do not scale the label since we want the absolute number for prediction\n",
        "      'Energy': inputs['Energy'],\n",
        "  }\n",
        "```\n",
        "</details>\n",
        "<br>"
      ]
    },
    {
      "cell_type": "markdown",
      "metadata": {
        "id": "GfjoqsAGATfF"
      },
      "source": [
        "### Partitioning the dataset\n",
        "\n",
        "Next, the `preprocess.py` pipeline partitions the single dataset into two datasets. It allocates approximately 80% of the data to be used as training data, and approximately 20% of the data to be used as evaluation data.\n",
        "\n",
        "<details> \n",
        "<summary> Click here to see the code snippet </summary>\n",
        "\n",
        "```\n",
        "# Split the dataset into a training set and an evaluation set\n",
        "assert 0 < eval_percent < 100, 'eval_percent must in the range (0-100)'\n",
        "train_dataset, eval_dataset = (\n",
        "    dataset\n",
        "    | 'Split dataset' >> beam.Partition(\n",
        "        lambda elem, _: int(random.uniform(0, 100) < eval_percent), 2))\n",
        "```\n",
        "</details>\n",
        "<br>"
      ]
    },
    {
      "cell_type": "markdown",
      "metadata": {
        "id": "-n3oo7fxAa2w"
      },
      "source": [
        "### Writing the output\n",
        "\n",
        "Finally, the `preprocess.py` pipeline writes the two datasets (training and evaluation) using the `WriteToTFRecord` transform.\n",
        "\n",
        "<details> \n",
        "<summary> Click here to see the code snippet </summary>\n",
        "\n",
        "```\n",
        "# Write the datasets as TFRecords\n",
        "coder = example_proto_coder.ExampleProtoCoder(metadata.schema)\n",
        "\n",
        "train_dataset_prefix = os.path.join(train_dataset_dir, 'part')\n",
        "_ = (\n",
        "    train_dataset\n",
        "    | 'Write train dataset' >> tfrecordio.WriteToTFRecord(\n",
        "        train_dataset_prefix, coder))\n",
        "\n",
        "eval_dataset_prefix = os.path.join(eval_dataset_dir, 'part')\n",
        "_ = (\n",
        "    eval_dataset\n",
        "    | 'Write eval dataset' >> tfrecordio.WriteToTFRecord(\n",
        "        eval_dataset_prefix, coder))\n",
        "\n",
        "# Write the transform_fn\n",
        "_ = (\n",
        "    transform_fn\n",
        "    | 'Write transformFn' >> transform_fn_io.WriteTransformFn(work_dir))\n",
        "```\n",
        "</details>\n",
        "<br>"
      ]
    },
    {
      "cell_type": "markdown",
      "metadata": {
        "id": "hhI7KSqLAsjM"
      },
      "source": [
        "## Phase 3: Training\n",
        "\n",
        "Recall that at the end of the preprocessing phase, the code split the data into two datasets (training and evaluation).\n",
        "\n",
        "The script uses a simple dense neural network for the regression problem. The `trainer/task.py` file contains the code for training the model. The main function of `trainer/task.py` loads the parameters needed from the preprocessing phase and passes it to the task runner function (i.e. `run_fn`).\n",
        "\n",
        "In this exercise, we will not focus too much on the training metrics (e.g. accuracy). That is discussed in other courses of this specialization. The main objective is to look at the outputs and how it is connected to the prediction phase."
      ]
    },
    {
      "cell_type": "code",
      "metadata": {
        "id": "uULHUNPa3LhI"
      },
      "source": [
        "# Print help documentation\n",
        "!python ./molecules/trainer/task.py --help"
      ],
      "execution_count": null,
      "outputs": []
    },
    {
      "cell_type": "code",
      "metadata": {
        "id": "XOEhQ5szvd-f"
      },
      "source": [
        "# Run the trainer.\n",
        "!python ./molecules/trainer/task.py --work-dir {WORK_DIR}"
      ],
      "execution_count": null,
      "outputs": []
    },
    {
      "cell_type": "markdown",
      "metadata": {
        "id": "Qm7x_Jx-3wdi"
      },
      "source": [
        "The outputs of this phase are in the `model` directory. This will be the trained model that you will use for predictions. "
      ]
    },
    {
      "cell_type": "code",
      "metadata": {
        "id": "umUBl5byXxOv"
      },
      "source": [
        "!ls {WORK_DIR}/model"
      ],
      "execution_count": null,
      "outputs": []
    },
    {
      "cell_type": "markdown",
      "metadata": {
        "id": "g9wB5HNK5pdt"
      },
      "source": [
        "The important thing to note in the training script is it also exports the transformation graph with the model. That is shown in these lines:\n",
        "\n",
        "<details> \n",
        "<summary> Click here to see the code snippet </summary>\n",
        "\n",
        "```\n",
        "# Define default serving signature\n",
        "signatures = {\n",
        "    'serving_default':\n",
        "        _get_serve_tf_examples_fn(model,\n",
        "                                  tf_transform_output, input_feature_spec).get_concrete_function(\n",
        "                                      [signatures_dict])\n",
        "}\n",
        "\n",
        "# Save model with signature\n",
        "model.save(fn_args.serving_model_dir, save_format='tf', signatures=signatures, include_optimizer=False)\n",
        "```\n",
        "</details>\n",
        "\n",
        "The implementation of `_get_serve_tf_examples_fn()` is as follows:\n",
        "\n",
        "<details> \n",
        "<summary> Click here to see the code snippet </summary>\n",
        "\n",
        "```\n",
        "def _get_serve_tf_examples_fn(model, tf_transform_output, feature_spec):\n",
        "  \"\"\"Returns a function that applies data transformation and generates predictions\"\"\"\n",
        "\n",
        "  # Get transformation graph\n",
        "  model.tft_layer = tf_transform_output.transform_features_layer()\n",
        "\n",
        "  @tf.function\n",
        "  def serve_tf_examples_fn(inputs_list):\n",
        "    \"\"\"Returns the output to be used in the serving signature.\"\"\"\n",
        "    \n",
        "    # Create a shallow copy of the dictionary in the single element list\n",
        "    inputs = inputs_list[0].copy()\n",
        "\n",
        "    # Pop ID since it is not needed in the transformation graph\n",
        "    # Also needed to identify predictions\n",
        "    id_key = inputs.pop('ID')\n",
        "    \n",
        "    # Apply data transformation to the raw inputs\n",
        "    transformed = model.tft_layer(inputs)\n",
        "\n",
        "    # Pass the transformed data to the model to get predictions\n",
        "    predictions = model(transformed.values())\n",
        "\n",
        "    return id_key, predictions\n",
        "\n",
        "  return serve_tf_examples_fn\n",
        "```\n",
        "</details>\n",
        "\n",
        "The use of `model.tft_layer` means that your model can accept raw data and it will do the transformation before feeding it to make predictions. It implies that when you serve your model for predictions, you don't have to worry about creating a pipeline to transform new data coming in. The model will already do that for you through this serving input function. It helps to prevent training-serving skew since you're handling the training and serving data the same way."
      ]
    },
    {
      "cell_type": "markdown",
      "metadata": {
        "id": "HIL-vfymBx-S"
      },
      "source": [
        "## Phase 4: Prediction\n",
        "\n",
        "After training the model, you can provide the model with inputs and it will make predictions. The pipeline in `predict.py` is responsible for making predictions. It reads the input files from the custom source and writes the output predictions as text files to the specified working directory.\n",
        "\n",
        "<details> \n",
        "<summary> Click here to see the code snippet </summary>\n",
        "\n",
        "```\n",
        "if args.verb == 'batch':\n",
        "  data_files_pattern = os.path.join(args.inputs_dir, '*.sdf')\n",
        "  results_prefix = os.path.join(args.outputs_dir, 'part')\n",
        "  source = pubchem.ParseSDF(data_files_pattern)\n",
        "  sink = beam.io.WriteToText(results_prefix)\n",
        "```\n",
        "</details>\n",
        "<br>\n",
        "\n",
        "\n",
        "The following image shows the steps in the prediction pipeline:\n",
        "\n",
        "<img src='https://github.com/https-deeplearning-ai/machine-learning-engineering-for-production-public/raw/main/course4/week2-ungraded-labs/C4_W2_Lab_4_ETL_Beam/images/predict.png' alt='https://github.com/https-deeplearning-ai/machine-learning-engineering-for-production-public/raw/main/course4/week2-ungraded-labs/C4_W2_Lab_4_ETL_Beam/images/predict.png'>\n",
        "\n",
        "In `predict.py`, the code defines the pipeline in the run function:\n",
        "\n",
        "<details> \n",
        "<summary> Click here to see the code snippet </summary>\n",
        "\n",
        "```\n",
        "def run(model_dir, feature_extraction, sink, beam_options=None):\n",
        "  print('Listening...')\n",
        "  with beam.Pipeline(options=beam_options) as p:\n",
        "    _ = (p\n",
        "        | 'Feature extraction' >> feature_extraction\n",
        "        | 'Predict' >> beam.ParDo(Predict(model_dir, 'ID'))\n",
        "        | 'Format as JSON' >> beam.Map(json.dumps)\n",
        "        | 'Write predictions' >> sink)\n",
        "```\n",
        "</details>\n",
        "<br>\n",
        "\n",
        "The code calls the run function with the following parameters:\n",
        "\n",
        "<details> \n",
        "<summary> Click here to see the code snippet </summary>\n",
        "\n",
        "```\n",
        "run(\n",
        "    args.model_dir,\n",
        "    pubchem.SimpleFeatureExtraction(source),\n",
        "    sink,\n",
        "    beam_options)\n",
        "```\n",
        "</details>\n",
        "\n",
        "First, the code passes the `pubchem.SimpleFeatureExtraction(source)` transform as the `feature_extraction` transform. This transform, which was also used in the preprocessing phase, is applied to the pipeline:\n",
        "\n",
        "<details> \n",
        "<summary> Click here to see the code snippet </summary>\n",
        "\n",
        "```\n",
        "class SimpleFeatureExtraction(beam.PTransform):\n",
        "  \"\"\"The feature extraction (element-wise transformations).\n",
        "\n",
        "  We create a `PTransform` class. This `PTransform` is a bundle of\n",
        "  transformations that can be applied to any other pipeline as a step.\n",
        "\n",
        "  We'll extract all the raw features here. Due to the nature of `PTransform`s,\n",
        "  we can only do element-wise transformations here. Anything that requires a\n",
        "  full-pass of the data (such as feature scaling) has to be done with\n",
        "  tf.Transform.\n",
        "  \"\"\"\n",
        "  def __init__(self, source):\n",
        "    super(SimpleFeatureExtraction, self).__init__()\n",
        "    self.source = source\n",
        "\n",
        "  def expand(self, p):\n",
        "    # Return the preprocessing pipeline. In this case we're reading the PubChem\n",
        "    # files, but the source could be any Apache Beam source.\n",
        "    return (p\n",
        "        | 'Read raw molecules' >> self.source\n",
        "        | 'Format molecule' >> beam.ParDo(FormatMolecule())\n",
        "        | 'Count atoms' >> beam.ParDo(CountAtoms())\n",
        "    )\n",
        "```\n",
        "</details>\n",
        "\n",
        "The transform reads from the appropriate source based on the pipeline’s execution mode (i.e. batch), formats the molecules, and counts the different atoms in each molecule.\n",
        "\n",
        "Next, `beam.ParDo(Predict(…))` is applied to the pipeline that performs the prediction of the molecular energy. `Predict`, the `DoFn` that's passed, uses the given dictionary of input features (atom counts), to predict the molecular energy.\n",
        "\n",
        "The next transform applied to the pipeline is `beam.Map(lambda result: json.dumps(result))`, which takes the prediction result dictionary and serializes it into a JSON string. Finally, the output is written to the sink.\n",
        "\n"
      ]
    },
    {
      "cell_type": "markdown",
      "metadata": {
        "id": "1WzZvOIBPWJe"
      },
      "source": [
        "### Batch predictions\n",
        "\n",
        "Batch predictions are optimized for throughput rather than latency. Batch predictions work best if you're making many predictions and you can wait for all of them to finish before getting the results. You can run the following cells to use the script to run batch predictions. For simplicity, you will use the same file you used for training. If you want however, you can use the data extractor script earlier to grab a different SDF file and feed it here.\n"
      ]
    },
    {
      "cell_type": "code",
      "metadata": {
        "id": "raPGxPCK6VwD"
      },
      "source": [
        "# Print help documentation. You can ignore references to GCP and streaming data.\n",
        "!python ./molecules/predict.py --help"
      ],
      "execution_count": null,
      "outputs": []
    },
    {
      "cell_type": "code",
      "metadata": {
        "id": "vXTi7NPJ6My1"
      },
      "source": [
        "# Define model, input and output data directories\n",
        "MODEL_DIR = f'{WORK_DIR}/model'\n",
        "DATA_DIR = f'{WORK_DIR}/data'\n",
        "PRED_DIR = f'{WORK_DIR}/predictions'"
      ],
      "execution_count": null,
      "outputs": []
    },
    {
      "cell_type": "code",
      "metadata": {
        "id": "tTc-Q9q7sa65"
      },
      "source": [
        "# Run batch prediction. This will take around 7 minutes.\n",
        "!python ./molecules/predict.py \\\n",
        "  --model-dir {MODEL_DIR} \\\n",
        "  --work-dir {WORK_DIR} \\\n",
        "  batch \\\n",
        "  --inputs-dir {DATA_DIR} \\\n",
        "  --outputs-dir {PRED_DIR}"
      ],
      "execution_count": null,
      "outputs": []
    },
    {
      "cell_type": "markdown",
      "metadata": {
        "id": "lFhSEvY99z_7"
      },
      "source": [
        "The results should now be in the `predictions` folder. This is just a text file so you can easily print the output."
      ]
    },
    {
      "cell_type": "code",
      "metadata": {
        "id": "g6P6vtPmX5w1"
      },
      "source": [
        "# List working directory\n",
        "!ls {WORK_DIR}"
      ],
      "execution_count": null,
      "outputs": []
    },
    {
      "cell_type": "code",
      "metadata": {
        "id": "U1-Mq0JO6WPF"
      },
      "source": [
        "# Print the first 100 results\n",
        "!head -n 100 /content/results/predictions/part-00000-of-00001"
      ],
      "execution_count": null,
      "outputs": []
    },
    {
      "cell_type": "markdown",
      "metadata": {
        "id": "UCdFIa_I-Rea"
      },
      "source": [
        "## Wrap Up\n",
        "\n",
        "You've now completed all phases of the Beam-based pipeline! Similar processes are done under the hood by higher-level frameworks such as TFX and you can use the techniques here to understand their codebase better or to extend them for your own needs. As mentioned earlier, the [original article](https://cloud.google.com/dataflow/examples/molecules-walkthrough) also offers the option to use GCP and to perform online predictions as well. Feel free to try it out but be aware of the recurring costs.\n",
        "\n",
        "On to the next part of the course!"
      ]
    }
  ]
}
